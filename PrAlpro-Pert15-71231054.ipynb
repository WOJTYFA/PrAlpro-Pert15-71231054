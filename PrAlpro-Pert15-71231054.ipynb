{
 "cells": [
  {
   "cell_type": "code",
   "execution_count": 5,
   "metadata": {},
   "outputs": [],
   "source": [
    "#latihan 15.1\n",
    "import re\n",
    "from datetime import datetime\n",
    "\n",
    "def temukan_dan_konversikan(text):\n",
    "    date_pattern = r'\\d{4} - \\d{2} - \\d{2}'\n",
    "    dates = re.findall(date_pattern, text)\n",
    "\n",
    "    current_date  = datetime.now()\n",
    "\n",
    "    hasil = []\n",
    "    for date_str in dates:\n",
    "        date_obj = datetime.strptime(date_str, '%Y-%m-%d')\n",
    "\n",
    "        format_date = date_obj.strftime('%d-%m-%Y')\n",
    "\n",
    "        selisih = (current_date - date_obj).days\n",
    "\n",
    "        hasil.append(f\"{date_str} 00:00:00 selidih {selisih} hari\")\n",
    "        \n",
    "    return hasil\n",
    "\n"
   ]
  },
  {
   "cell_type": "code",
   "execution_count": null,
   "metadata": {},
   "outputs": [],
   "source": [
    "#latihan 15.2\n",
    "import re\n",
    "import random\n",
    "import string\n",
    "\n",
    "def generate_pass(length = 8):\n",
    "    karakter = string.ascii_letters + string.digits\n",
    "\n",
    "    password = ''.join(random.choice(karakter) for i in range(length))\n",
    "    return password\n",
    "\n",
    "def extrak_username_dan_generate_pass(text):\n",
    "    email_pattern = r'\\b[A-Za-z0-9. %+-] + @[A-Za-z0-9.-] + \\.[A-Z|a-z]{2,}\\b'\n",
    "    emails = re.findall(email_pattern, text)\n",
    "\n",
    "    hasil = []\n",
    "    for email in emails:\n",
    "        username = email.split('@')[0]\n",
    "        password = generate_pass()\n",
    "        hasil.append(f\"{email} username: {username}, passeprd: {password}\")\n",
    "    return hasil\n",
    " "
   ]
  }
 ],
 "metadata": {
  "kernelspec": {
   "display_name": "Python 3",
   "language": "python",
   "name": "python3"
  },
  "language_info": {
   "codemirror_mode": {
    "name": "ipython",
    "version": 3
   },
   "file_extension": ".py",
   "mimetype": "text/x-python",
   "name": "python",
   "nbconvert_exporter": "python",
   "pygments_lexer": "ipython3",
   "version": "3.12.0"
  }
 },
 "nbformat": 4,
 "nbformat_minor": 2
}
